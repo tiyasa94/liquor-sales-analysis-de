{
  "nbformat": 4,
  "nbformat_minor": 0,
  "metadata": {
    "colab": {
      "provenance": []
    },
    "kernelspec": {
      "name": "python3",
      "display_name": "Python 3"
    },
    "language_info": {
      "name": "python"
    }
  },
  "cells": [
    {
      "cell_type": "markdown",
      "source": [
        "# Liquor Sales Data Analysis"
      ],
      "metadata": {
        "id": "lsb7KcSTAuna"
      }
    },
    {
      "cell_type": "markdown",
      "source": [
        "## Objective\n",
        "\n",
        "In this case study, you will learn the principles of hands-on data processing and analysis using\n",
        "a detailed dataset on liquor sales spanning 2020 to 2025. This assignment aims to give you\n",
        "practical experience in processing large datasets using tech stacks such as AWS RDS, HBase,\n",
        "and Hadoop MapReduce. You will not only apply the techniques covered in the project modules,\n",
        "but also gain insights into the complexities of business data analytics. At the end of this\n",
        "assignment, you will have developed a robust understanding of the following:\n",
        "• Data ingestion processes using cloud-based tools like AWS RDS and HBase.\n",
        "• Data cleaning and preparation to ensure high-quality analysis.\n",
        "• Applying MapReduce to solve real-world analytics problems.\n",
        "• Creating actionable insights and recommendations based on the analysis.\n",
        "This hands-on approach will bridge the gap between theoretical learning and practical implementation,\n",
        "preparing you for real-world challenges in the field of data analytics.\n",
        "\n"
      ],
      "metadata": {
        "id": "DGQVIB4mEFrZ"
      }
    },
    {
      "cell_type": "markdown",
      "source": [
        "# Business Objective:\n",
        "The liquor industry is a significant contributor to the retail economy, particularly in regions where\n",
        "sales are highly regulated and tracked. For liquor businesses, understanding sales trends is vital to\n",
        "maintaining competitive advantage, meeting customer demand, and ensuring efficient operations.\n",
        "As an analyst, you are tasked with analyzing detailed liquor sales data from 2020 to 2025 to uncover\n",
        "patterns and insights that can drive strategic decision-making. The objective is to identify trends in\n",
        "consumer preferences, regional sales performance, and product popularity, enabling stakeholders to\n",
        "optimize inventory management, boost profitability, and enhance customer satisfaction."
      ],
      "metadata": {
        "id": "q6Dutz323wAA"
      }
    },
    {
      "cell_type": "markdown",
      "source": [
        "## Hadoop and MapReduce Assignment Tasks:\n",
        "\n",
        "<br> Data Cleaning Tasks: </br>\n",
        "<br>Task 1:  Data Cleaning</br>\n",
        "\n",
        "<br> Data Ingestion Tasks: </br>\n",
        "<br>Task 2: Upload Liquor Sales Data to AWS RDS</br>\n",
        "<br>Task 3: Ingest Data into HBase</br>\n",
        "\n",
        "\n",
        "<r>Data Analysis Using MapReduce:</br>\n",
        "<br>Task 4: Total Revenue by Store</br>\n",
        "<br>Task 5: Top-Selling Liquor Categories</br>\n",
        "<br>Task 6: County-Level Sales Analysis</br>\n",
        "<br>Task 7: Store Performance Analysis</br>\n",
        "<br>Task 8: Trends in Liquor Sales Over Time</br>\n",
        "<br>Task 9: Vendor Performance</br>\n",
        "\n",
        "\n",
        "**NOTE:** The marks given along with headings and sub-headings are cumulative marks for those particular headings/sub-headings.<br>\n",
        "\n",
        "The actual marks for each task are specified within the tasks themselves.\n",
        "\n",
        "For example, marks given with heading *2* or sub-heading *2.1* are the cumulative marks, for your reference only. <br>\n",
        "\n",
        "The marks you will receive for completing tasks are given with the tasks.\n",
        "\n",
        "Suppose the marks for two tasks are: 3 marks for 2.1.1 and 2 marks for 3.2.2, or\n",
        "* 2.1.1 [3 marks]\n",
        "* 3.2.2 [2 marks]\n",
        "\n",
        "then, you will earn 3 marks for completing task 2.1.1 and 2 marks for completing task 3.2.2."
      ],
      "metadata": {
        "id": "-OVfUMlHFkZD"
      }
    },
    {
      "cell_type": "markdown",
      "source": [
        "---"
      ],
      "metadata": {
        "id": "YdQjht7dUiHt"
      }
    },
    {
      "cell_type": "markdown",
      "source": [
        "## Data Understanding\n",
        "The dataset link can be accessed from the following [link](https://liquor-data.s3.us-east-1.amazonaws.com/Liquor_Sales.csv).\n",
        "The dataset contains liquor sales data from multiple stores across various states, providing rich information for analysis. The fields are as follows:\n"
      ],
      "metadata": {
        "id": "0eaCZjHIvfuI"
      }
    },
    {
      "cell_type": "markdown",
      "source": [
        "| Variable              | Class            | Description                                                     |\n",
        "|-----------------------|------------------|-----------------------------------------------------------------|\n",
        "| Invoice/Item Number   | String/Integer   | Unique identifier for each sale.                                |\n",
        "| Date                  | Date             | The date of the sale.                                           |\n",
        "| Store Number          | Integer          | Unique identifier for the store.                                |\n",
        "| Store Name            | String           | Name of the store.                                              |\n",
        "| Address               | String           | Store address.                                                  |\n",
        "| City                  | String           | City where the store is located.                                |\n",
        "| Zip Code              | String/Integer   | ZIP code of the store location.                                 |\n",
        "| Store Location        | String/GeoPoint  | GPS coordinates of the store.                                   |\n",
        "| County Number         | Integer          | Unique identifier for the county.                               |\n",
        "| County                | String           | Name of the county.                                             |\n",
        "| Category              | Integer          | Liquor category code.                                           |\n",
        "| Category Name         | String           | Name of the liquor category (e.g., Whiskey, Vodka).             |\n",
        "| Vendor Number         | Integer          | Vendor's unique identifier.                                     |\n",
        "| Vendor Name           | String           | Name of the vendor/distributor.                                 |\n",
        "| Item Number           | Integer          | Product's unique identifier.                                    |\n",
        "| Item Description      | String           | Description of the liquor product.                              |\n",
        "| Pack                  | Integer          | Number of bottles in a pack.                                    |\n",
        "| Bottle Volume (ml)    | Float/Integer    | Volume of a single bottle in milliliters.                       |\n",
        "| State Bottle Cost     | Float            | Cost per bottle for the state.                                  |\n",
        "| State Bottle Retail   | Float            | Retail price per bottle.                                        |\n",
        "| Bottles Sold          | Integer          | Number of bottles sold.                                         |\n",
        "| Sale (Dollars)        | Float            | Total revenue from the sale.                                    |\n",
        "| Volume Sold (Liters)  | Float            | Volume sold in liters.                                          |\n",
        "| Volume Sold (Gallons) | Float            | Volume sold in gallons.                                         |\n"
      ],
      "metadata": {
        "id": "LI6qC5IDxZU1"
      }
    },
    {
      "cell_type": "markdown",
      "source": [
        "### Import Libraries and Load Dataset"
      ],
      "metadata": {
        "id": "nM2X-s6lycvQ"
      }
    },
    {
      "cell_type": "code",
      "source": [
        "!pip install mrjob==0.7.4"
      ],
      "metadata": {
        "id": "OQjeiFgWE6SS",
        "colab": {
          "base_uri": "https://localhost:8080/"
        },
        "outputId": "35de29fb-aa5a-4ee8-fa96-6ea9ee2c4977"
      },
      "execution_count": 1,
      "outputs": [
        {
          "output_type": "stream",
          "name": "stdout",
          "text": [
            "Collecting mrjob==0.7.4\n",
            "  Downloading mrjob-0.7.4-py2.py3-none-any.whl.metadata (7.3 kB)\n",
            "Requirement already satisfied: PyYAML>=3.10 in /usr/local/lib/python3.11/dist-packages (from mrjob==0.7.4) (6.0.2)\n",
            "Downloading mrjob-0.7.4-py2.py3-none-any.whl (439 kB)\n",
            "\u001b[?25l   \u001b[90m━━━━━━━━━━━━━━━━━━━━━━━━━━━━━━━━━━━━━━━━\u001b[0m \u001b[32m0.0/439.6 kB\u001b[0m \u001b[31m?\u001b[0m eta \u001b[36m-:--:--\u001b[0m\r\u001b[2K   \u001b[91m━━━━━━━━━━━━━━━━━━━━━━━━━━━━━━━━━━━━━━━\u001b[0m\u001b[90m╺\u001b[0m \u001b[32m430.1/439.6 kB\u001b[0m \u001b[31m17.4 MB/s\u001b[0m eta \u001b[36m0:00:01\u001b[0m\r\u001b[2K   \u001b[90m━━━━━━━━━━━━━━━━━━━━━━━━━━━━━━━━━━━━━━━━\u001b[0m \u001b[32m439.6/439.6 kB\u001b[0m \u001b[31m11.4 MB/s\u001b[0m eta \u001b[36m0:00:00\u001b[0m\n",
            "\u001b[?25hInstalling collected packages: mrjob\n",
            "Successfully installed mrjob-0.7.4\n"
          ]
        }
      ]
    },
    {
      "cell_type": "code",
      "source": [
        "# Import the libraries you will be using for analysis\n",
        "import pandas as pd\n",
        "import numpy as np\n",
        "from mrjob.job import MRJob\n",
        "import csv"
      ],
      "metadata": {
        "id": "9ggMELWEE7X4"
      },
      "execution_count": 2,
      "outputs": []
    },
    {
      "cell_type": "code",
      "source": [
        "from google.colab import drive\n",
        "drive.mount('/content/drive')\n"
      ],
      "metadata": {
        "colab": {
          "base_uri": "https://localhost:8080/"
        },
        "id": "zvjc6scwXpFq",
        "outputId": "4e376b7e-d445-43d6-a252-4aa2596550b7"
      },
      "execution_count": 3,
      "outputs": [
        {
          "output_type": "stream",
          "name": "stdout",
          "text": [
            "Mounted at /content/drive\n"
          ]
        }
      ]
    },
    {
      "cell_type": "code",
      "source": [
        "# Load chunk of data into df\n",
        "file_path = '/content/drive/MyDrive/Liquor_Sales.csv'\n",
        "chunk_size = 10000\n",
        "\n",
        "# Load only the first chunk\n",
        "chunk_iter = pd.read_csv(file_path, chunksize=chunk_size)\n",
        "df = next(chunk_iter)  # get the first 10,000 rows\n",
        "\n",
        "# Preview\n",
        "print(f\"Loaded rows: {len(df)}\")\n",
        "df.head()"
      ],
      "metadata": {
        "colab": {
          "base_uri": "https://localhost:8080/",
          "height": 499
        },
        "id": "vcGQ2Fx7Yfoi",
        "outputId": "50b9bc9c-ed6b-47fc-f912-3fd92b5fc59b"
      },
      "execution_count": 7,
      "outputs": [
        {
          "output_type": "stream",
          "name": "stdout",
          "text": [
            "Loaded rows: 10000\n"
          ]
        },
        {
          "output_type": "execute_result",
          "data": {
            "text/plain": [
              "  Invoice/Item Number        Date  Store Number  \\\n",
              "0        S24127700024  02/19/2015          3678   \n",
              "1        S15066200002  10/10/2013          2633   \n",
              "2        S19323500030  06/03/2014          2607   \n",
              "3        S23334500013  01/06/2015          4810   \n",
              "4        S09742200010  12/27/2012          4025   \n",
              "\n",
              "                             Store Name                   Address  \\\n",
              "0                       Smoke Shop, The           1918 SE 14TH ST   \n",
              "1          Hy-Vee #3 / BDI / Des Moines           3221 SE 14TH ST   \n",
              "2  Hy-Vee Wine and Spirits / Shenandoah            520 SO FREMONT   \n",
              "3                Kum & Go #518 / Ankeny  3603 NE OTTERVIEW CIRCLE   \n",
              "4               Karam Kaur Khasriya Llc               702 13TH ST   \n",
              "\n",
              "           City Zip Code                Store Location  County Number  County  \\\n",
              "0    DES MOINES    50320  POINT (-93.597011 41.570844)           77.0    Polk   \n",
              "1    DES MOINES    50320  POINT (-93.596754 41.554101)           77.0    Polk   \n",
              "2    SHENANDOAH    51601  POINT (-95.385111 40.761736)           73.0    Page   \n",
              "3        ANKENY    50021  POINT (-93.572458 41.760989)           77.0    Polk   \n",
              "4  BELLE PLAINE    52208  POINT (-92.277759 41.897052)            6.0  Benton   \n",
              "\n",
              "   ...  Item Number                 Item Description  Pack Bottle Volume (ml)  \\\n",
              "0  ...        41783     Uv Blue Raspberry Vodka Mini     6                500   \n",
              "1  ...       904969  Sabe Premiom Sake Double Barrel     6                750   \n",
              "2  ...        45277              Paramount White Rum    12               1000   \n",
              "3  ...        43121        Bacardi Superior Rum Mini    12                500   \n",
              "4  ...        11298      Crown Royal Canadian Whisky     6               1750   \n",
              "\n",
              "   State Bottle Cost State Bottle Retail  Bottles Sold  Sale (Dollars)  \\\n",
              "0               4.89                7.34             2           14.68   \n",
              "1              14.99               22.49             6          134.94   \n",
              "2               4.34                6.51            12           78.12   \n",
              "3               5.54                8.31             1            8.31   \n",
              "4              31.00               46.49             2           92.98   \n",
              "\n",
              "   Volume Sold (Liters)  Volume Sold (Gallons)  \n",
              "0                   1.0                   0.26  \n",
              "1                   4.5                   1.19  \n",
              "2                  12.0                   3.17  \n",
              "3                   0.5                   0.13  \n",
              "4                   3.5                   0.92  \n",
              "\n",
              "[5 rows x 24 columns]"
            ],
            "text/html": [
              "\n",
              "  <div id=\"df-780681ca-acc0-4ab7-8ccf-885a743d87c3\" class=\"colab-df-container\">\n",
              "    <div>\n",
              "<style scoped>\n",
              "    .dataframe tbody tr th:only-of-type {\n",
              "        vertical-align: middle;\n",
              "    }\n",
              "\n",
              "    .dataframe tbody tr th {\n",
              "        vertical-align: top;\n",
              "    }\n",
              "\n",
              "    .dataframe thead th {\n",
              "        text-align: right;\n",
              "    }\n",
              "</style>\n",
              "<table border=\"1\" class=\"dataframe\">\n",
              "  <thead>\n",
              "    <tr style=\"text-align: right;\">\n",
              "      <th></th>\n",
              "      <th>Invoice/Item Number</th>\n",
              "      <th>Date</th>\n",
              "      <th>Store Number</th>\n",
              "      <th>Store Name</th>\n",
              "      <th>Address</th>\n",
              "      <th>City</th>\n",
              "      <th>Zip Code</th>\n",
              "      <th>Store Location</th>\n",
              "      <th>County Number</th>\n",
              "      <th>County</th>\n",
              "      <th>...</th>\n",
              "      <th>Item Number</th>\n",
              "      <th>Item Description</th>\n",
              "      <th>Pack</th>\n",
              "      <th>Bottle Volume (ml)</th>\n",
              "      <th>State Bottle Cost</th>\n",
              "      <th>State Bottle Retail</th>\n",
              "      <th>Bottles Sold</th>\n",
              "      <th>Sale (Dollars)</th>\n",
              "      <th>Volume Sold (Liters)</th>\n",
              "      <th>Volume Sold (Gallons)</th>\n",
              "    </tr>\n",
              "  </thead>\n",
              "  <tbody>\n",
              "    <tr>\n",
              "      <th>0</th>\n",
              "      <td>S24127700024</td>\n",
              "      <td>02/19/2015</td>\n",
              "      <td>3678</td>\n",
              "      <td>Smoke Shop, The</td>\n",
              "      <td>1918 SE 14TH ST</td>\n",
              "      <td>DES MOINES</td>\n",
              "      <td>50320</td>\n",
              "      <td>POINT (-93.597011 41.570844)</td>\n",
              "      <td>77.0</td>\n",
              "      <td>Polk</td>\n",
              "      <td>...</td>\n",
              "      <td>41783</td>\n",
              "      <td>Uv Blue Raspberry Vodka Mini</td>\n",
              "      <td>6</td>\n",
              "      <td>500</td>\n",
              "      <td>4.89</td>\n",
              "      <td>7.34</td>\n",
              "      <td>2</td>\n",
              "      <td>14.68</td>\n",
              "      <td>1.0</td>\n",
              "      <td>0.26</td>\n",
              "    </tr>\n",
              "    <tr>\n",
              "      <th>1</th>\n",
              "      <td>S15066200002</td>\n",
              "      <td>10/10/2013</td>\n",
              "      <td>2633</td>\n",
              "      <td>Hy-Vee #3 / BDI / Des Moines</td>\n",
              "      <td>3221 SE 14TH ST</td>\n",
              "      <td>DES MOINES</td>\n",
              "      <td>50320</td>\n",
              "      <td>POINT (-93.596754 41.554101)</td>\n",
              "      <td>77.0</td>\n",
              "      <td>Polk</td>\n",
              "      <td>...</td>\n",
              "      <td>904969</td>\n",
              "      <td>Sabe Premiom Sake Double Barrel</td>\n",
              "      <td>6</td>\n",
              "      <td>750</td>\n",
              "      <td>14.99</td>\n",
              "      <td>22.49</td>\n",
              "      <td>6</td>\n",
              "      <td>134.94</td>\n",
              "      <td>4.5</td>\n",
              "      <td>1.19</td>\n",
              "    </tr>\n",
              "    <tr>\n",
              "      <th>2</th>\n",
              "      <td>S19323500030</td>\n",
              "      <td>06/03/2014</td>\n",
              "      <td>2607</td>\n",
              "      <td>Hy-Vee Wine and Spirits / Shenandoah</td>\n",
              "      <td>520 SO FREMONT</td>\n",
              "      <td>SHENANDOAH</td>\n",
              "      <td>51601</td>\n",
              "      <td>POINT (-95.385111 40.761736)</td>\n",
              "      <td>73.0</td>\n",
              "      <td>Page</td>\n",
              "      <td>...</td>\n",
              "      <td>45277</td>\n",
              "      <td>Paramount White Rum</td>\n",
              "      <td>12</td>\n",
              "      <td>1000</td>\n",
              "      <td>4.34</td>\n",
              "      <td>6.51</td>\n",
              "      <td>12</td>\n",
              "      <td>78.12</td>\n",
              "      <td>12.0</td>\n",
              "      <td>3.17</td>\n",
              "    </tr>\n",
              "    <tr>\n",
              "      <th>3</th>\n",
              "      <td>S23334500013</td>\n",
              "      <td>01/06/2015</td>\n",
              "      <td>4810</td>\n",
              "      <td>Kum &amp; Go #518 / Ankeny</td>\n",
              "      <td>3603 NE OTTERVIEW CIRCLE</td>\n",
              "      <td>ANKENY</td>\n",
              "      <td>50021</td>\n",
              "      <td>POINT (-93.572458 41.760989)</td>\n",
              "      <td>77.0</td>\n",
              "      <td>Polk</td>\n",
              "      <td>...</td>\n",
              "      <td>43121</td>\n",
              "      <td>Bacardi Superior Rum Mini</td>\n",
              "      <td>12</td>\n",
              "      <td>500</td>\n",
              "      <td>5.54</td>\n",
              "      <td>8.31</td>\n",
              "      <td>1</td>\n",
              "      <td>8.31</td>\n",
              "      <td>0.5</td>\n",
              "      <td>0.13</td>\n",
              "    </tr>\n",
              "    <tr>\n",
              "      <th>4</th>\n",
              "      <td>S09742200010</td>\n",
              "      <td>12/27/2012</td>\n",
              "      <td>4025</td>\n",
              "      <td>Karam Kaur Khasriya Llc</td>\n",
              "      <td>702 13TH ST</td>\n",
              "      <td>BELLE PLAINE</td>\n",
              "      <td>52208</td>\n",
              "      <td>POINT (-92.277759 41.897052)</td>\n",
              "      <td>6.0</td>\n",
              "      <td>Benton</td>\n",
              "      <td>...</td>\n",
              "      <td>11298</td>\n",
              "      <td>Crown Royal Canadian Whisky</td>\n",
              "      <td>6</td>\n",
              "      <td>1750</td>\n",
              "      <td>31.00</td>\n",
              "      <td>46.49</td>\n",
              "      <td>2</td>\n",
              "      <td>92.98</td>\n",
              "      <td>3.5</td>\n",
              "      <td>0.92</td>\n",
              "    </tr>\n",
              "  </tbody>\n",
              "</table>\n",
              "<p>5 rows × 24 columns</p>\n",
              "</div>\n",
              "    <div class=\"colab-df-buttons\">\n",
              "\n",
              "  <div class=\"colab-df-container\">\n",
              "    <button class=\"colab-df-convert\" onclick=\"convertToInteractive('df-780681ca-acc0-4ab7-8ccf-885a743d87c3')\"\n",
              "            title=\"Convert this dataframe to an interactive table.\"\n",
              "            style=\"display:none;\">\n",
              "\n",
              "  <svg xmlns=\"http://www.w3.org/2000/svg\" height=\"24px\" viewBox=\"0 -960 960 960\">\n",
              "    <path d=\"M120-120v-720h720v720H120Zm60-500h600v-160H180v160Zm220 220h160v-160H400v160Zm0 220h160v-160H400v160ZM180-400h160v-160H180v160Zm440 0h160v-160H620v160ZM180-180h160v-160H180v160Zm440 0h160v-160H620v160Z\"/>\n",
              "  </svg>\n",
              "    </button>\n",
              "\n",
              "  <style>\n",
              "    .colab-df-container {\n",
              "      display:flex;\n",
              "      gap: 12px;\n",
              "    }\n",
              "\n",
              "    .colab-df-convert {\n",
              "      background-color: #E8F0FE;\n",
              "      border: none;\n",
              "      border-radius: 50%;\n",
              "      cursor: pointer;\n",
              "      display: none;\n",
              "      fill: #1967D2;\n",
              "      height: 32px;\n",
              "      padding: 0 0 0 0;\n",
              "      width: 32px;\n",
              "    }\n",
              "\n",
              "    .colab-df-convert:hover {\n",
              "      background-color: #E2EBFA;\n",
              "      box-shadow: 0px 1px 2px rgba(60, 64, 67, 0.3), 0px 1px 3px 1px rgba(60, 64, 67, 0.15);\n",
              "      fill: #174EA6;\n",
              "    }\n",
              "\n",
              "    .colab-df-buttons div {\n",
              "      margin-bottom: 4px;\n",
              "    }\n",
              "\n",
              "    [theme=dark] .colab-df-convert {\n",
              "      background-color: #3B4455;\n",
              "      fill: #D2E3FC;\n",
              "    }\n",
              "\n",
              "    [theme=dark] .colab-df-convert:hover {\n",
              "      background-color: #434B5C;\n",
              "      box-shadow: 0px 1px 3px 1px rgba(0, 0, 0, 0.15);\n",
              "      filter: drop-shadow(0px 1px 2px rgba(0, 0, 0, 0.3));\n",
              "      fill: #FFFFFF;\n",
              "    }\n",
              "  </style>\n",
              "\n",
              "    <script>\n",
              "      const buttonEl =\n",
              "        document.querySelector('#df-780681ca-acc0-4ab7-8ccf-885a743d87c3 button.colab-df-convert');\n",
              "      buttonEl.style.display =\n",
              "        google.colab.kernel.accessAllowed ? 'block' : 'none';\n",
              "\n",
              "      async function convertToInteractive(key) {\n",
              "        const element = document.querySelector('#df-780681ca-acc0-4ab7-8ccf-885a743d87c3');\n",
              "        const dataTable =\n",
              "          await google.colab.kernel.invokeFunction('convertToInteractive',\n",
              "                                                    [key], {});\n",
              "        if (!dataTable) return;\n",
              "\n",
              "        const docLinkHtml = 'Like what you see? Visit the ' +\n",
              "          '<a target=\"_blank\" href=https://colab.research.google.com/notebooks/data_table.ipynb>data table notebook</a>'\n",
              "          + ' to learn more about interactive tables.';\n",
              "        element.innerHTML = '';\n",
              "        dataTable['output_type'] = 'display_data';\n",
              "        await google.colab.output.renderOutput(dataTable, element);\n",
              "        const docLink = document.createElement('div');\n",
              "        docLink.innerHTML = docLinkHtml;\n",
              "        element.appendChild(docLink);\n",
              "      }\n",
              "    </script>\n",
              "  </div>\n",
              "\n",
              "\n",
              "    <div id=\"df-7f2493cb-3bde-471e-8fc4-82803c9b7789\">\n",
              "      <button class=\"colab-df-quickchart\" onclick=\"quickchart('df-7f2493cb-3bde-471e-8fc4-82803c9b7789')\"\n",
              "                title=\"Suggest charts\"\n",
              "                style=\"display:none;\">\n",
              "\n",
              "<svg xmlns=\"http://www.w3.org/2000/svg\" height=\"24px\"viewBox=\"0 0 24 24\"\n",
              "     width=\"24px\">\n",
              "    <g>\n",
              "        <path d=\"M19 3H5c-1.1 0-2 .9-2 2v14c0 1.1.9 2 2 2h14c1.1 0 2-.9 2-2V5c0-1.1-.9-2-2-2zM9 17H7v-7h2v7zm4 0h-2V7h2v10zm4 0h-2v-4h2v4z\"/>\n",
              "    </g>\n",
              "</svg>\n",
              "      </button>\n",
              "\n",
              "<style>\n",
              "  .colab-df-quickchart {\n",
              "      --bg-color: #E8F0FE;\n",
              "      --fill-color: #1967D2;\n",
              "      --hover-bg-color: #E2EBFA;\n",
              "      --hover-fill-color: #174EA6;\n",
              "      --disabled-fill-color: #AAA;\n",
              "      --disabled-bg-color: #DDD;\n",
              "  }\n",
              "\n",
              "  [theme=dark] .colab-df-quickchart {\n",
              "      --bg-color: #3B4455;\n",
              "      --fill-color: #D2E3FC;\n",
              "      --hover-bg-color: #434B5C;\n",
              "      --hover-fill-color: #FFFFFF;\n",
              "      --disabled-bg-color: #3B4455;\n",
              "      --disabled-fill-color: #666;\n",
              "  }\n",
              "\n",
              "  .colab-df-quickchart {\n",
              "    background-color: var(--bg-color);\n",
              "    border: none;\n",
              "    border-radius: 50%;\n",
              "    cursor: pointer;\n",
              "    display: none;\n",
              "    fill: var(--fill-color);\n",
              "    height: 32px;\n",
              "    padding: 0;\n",
              "    width: 32px;\n",
              "  }\n",
              "\n",
              "  .colab-df-quickchart:hover {\n",
              "    background-color: var(--hover-bg-color);\n",
              "    box-shadow: 0 1px 2px rgba(60, 64, 67, 0.3), 0 1px 3px 1px rgba(60, 64, 67, 0.15);\n",
              "    fill: var(--button-hover-fill-color);\n",
              "  }\n",
              "\n",
              "  .colab-df-quickchart-complete:disabled,\n",
              "  .colab-df-quickchart-complete:disabled:hover {\n",
              "    background-color: var(--disabled-bg-color);\n",
              "    fill: var(--disabled-fill-color);\n",
              "    box-shadow: none;\n",
              "  }\n",
              "\n",
              "  .colab-df-spinner {\n",
              "    border: 2px solid var(--fill-color);\n",
              "    border-color: transparent;\n",
              "    border-bottom-color: var(--fill-color);\n",
              "    animation:\n",
              "      spin 1s steps(1) infinite;\n",
              "  }\n",
              "\n",
              "  @keyframes spin {\n",
              "    0% {\n",
              "      border-color: transparent;\n",
              "      border-bottom-color: var(--fill-color);\n",
              "      border-left-color: var(--fill-color);\n",
              "    }\n",
              "    20% {\n",
              "      border-color: transparent;\n",
              "      border-left-color: var(--fill-color);\n",
              "      border-top-color: var(--fill-color);\n",
              "    }\n",
              "    30% {\n",
              "      border-color: transparent;\n",
              "      border-left-color: var(--fill-color);\n",
              "      border-top-color: var(--fill-color);\n",
              "      border-right-color: var(--fill-color);\n",
              "    }\n",
              "    40% {\n",
              "      border-color: transparent;\n",
              "      border-right-color: var(--fill-color);\n",
              "      border-top-color: var(--fill-color);\n",
              "    }\n",
              "    60% {\n",
              "      border-color: transparent;\n",
              "      border-right-color: var(--fill-color);\n",
              "    }\n",
              "    80% {\n",
              "      border-color: transparent;\n",
              "      border-right-color: var(--fill-color);\n",
              "      border-bottom-color: var(--fill-color);\n",
              "    }\n",
              "    90% {\n",
              "      border-color: transparent;\n",
              "      border-bottom-color: var(--fill-color);\n",
              "    }\n",
              "  }\n",
              "</style>\n",
              "\n",
              "      <script>\n",
              "        async function quickchart(key) {\n",
              "          const quickchartButtonEl =\n",
              "            document.querySelector('#' + key + ' button');\n",
              "          quickchartButtonEl.disabled = true;  // To prevent multiple clicks.\n",
              "          quickchartButtonEl.classList.add('colab-df-spinner');\n",
              "          try {\n",
              "            const charts = await google.colab.kernel.invokeFunction(\n",
              "                'suggestCharts', [key], {});\n",
              "          } catch (error) {\n",
              "            console.error('Error during call to suggestCharts:', error);\n",
              "          }\n",
              "          quickchartButtonEl.classList.remove('colab-df-spinner');\n",
              "          quickchartButtonEl.classList.add('colab-df-quickchart-complete');\n",
              "        }\n",
              "        (() => {\n",
              "          let quickchartButtonEl =\n",
              "            document.querySelector('#df-7f2493cb-3bde-471e-8fc4-82803c9b7789 button');\n",
              "          quickchartButtonEl.style.display =\n",
              "            google.colab.kernel.accessAllowed ? 'block' : 'none';\n",
              "        })();\n",
              "      </script>\n",
              "    </div>\n",
              "\n",
              "    </div>\n",
              "  </div>\n"
            ],
            "application/vnd.google.colaboratory.intrinsic+json": {
              "type": "dataframe",
              "variable_name": "df"
            }
          },
          "metadata": {},
          "execution_count": 7
        }
      ]
    },
    {
      "cell_type": "markdown",
      "source": [
        "## **1** Data Cleaning\n",
        "<font color = red>[5 marks]</font> <br>"
      ],
      "metadata": {
        "id": "klWHD3amIOgn"
      }
    },
    {
      "cell_type": "markdown",
      "source": [
        "#### **1.1** Fixing Columns"
      ],
      "metadata": {
        "id": "B1LHJP0IIV2_"
      }
    },
    {
      "cell_type": "code",
      "source": [
        "# Rename columns safely\n",
        "df.rename(columns={\n",
        "    \"Invoice/Item Number\": \"invoice_item_number\",\n",
        "    \"Store Number\": \"store_number\",\n",
        "    \"Store Name\": \"store_name\",\n",
        "    \"Zip Code\": \"zip_code\",\n",
        "    \"Store Location\": \"store_location\",\n",
        "    \"County Number\": \"county_number\",\n",
        "    \"Category Name\": \"category_name\",\n",
        "    \"Vendor Number\": \"vendor_number\",\n",
        "    \"Vendor Name\": \"vendor_name\",\n",
        "    \"Item Number\": \"item_number\",\n",
        "    \"Item Description\": \"item_description\",\n",
        "    \"Bottle Volume (ml)\": \"bottle_volume_ml\",\n",
        "    \"State Bottle Cost\": \"state_bottle_cost\",\n",
        "    \"State Bottle Retail\": \"state_bottle_retail\",\n",
        "    \"Bottles Sold\": \"bottles_sold\",\n",
        "    \"Sale (Dollars)\": \"sale_dollars\",\n",
        "    \"Volume Sold (Liters)\": \"volume_sold_liters\",\n",
        "    \"Volume Sold (Gallons)\": \"volume_sold_gallons\"\n",
        "}, inplace=True)"
      ],
      "metadata": {
        "id": "pGcss3-wBb4T"
      },
      "execution_count": 8,
      "outputs": []
    },
    {
      "cell_type": "code",
      "source": [
        "df.columns"
      ],
      "metadata": {
        "colab": {
          "base_uri": "https://localhost:8080/"
        },
        "id": "MnkZRRK5BvOE",
        "outputId": "1677ca22-cc4a-45b5-ef51-cda514112b74"
      },
      "execution_count": 9,
      "outputs": [
        {
          "output_type": "execute_result",
          "data": {
            "text/plain": [
              "Index(['invoice_item_number', 'Date', 'store_number', 'store_name', 'Address',\n",
              "       'City', 'zip_code', 'store_location', 'county_number', 'County',\n",
              "       'Category', 'category_name', 'vendor_number', 'vendor_name',\n",
              "       'item_number', 'item_description', 'Pack', 'bottle_volume_ml',\n",
              "       'state_bottle_cost', 'state_bottle_retail', 'bottles_sold',\n",
              "       'sale_dollars', 'volume_sold_liters', 'volume_sold_gallons'],\n",
              "      dtype='object')"
            ]
          },
          "metadata": {},
          "execution_count": 9
        }
      ]
    },
    {
      "cell_type": "code",
      "source": [
        "# --- Fix column names ---\n",
        "# Strip whitespace, replace spaces with underscores, make lowercase\n",
        "df.columns = (\n",
        "    df.columns.str.strip()\n",
        "                      .str.lower()\n",
        "                      .str.replace(\" \", \"_\")\n",
        "                      .str.replace(r\"[()]\", \"\", regex=True)\n",
        ")"
      ],
      "metadata": {
        "id": "fgTWudtXZ__n"
      },
      "execution_count": 10,
      "outputs": []
    },
    {
      "cell_type": "code",
      "source": [
        "df.columns"
      ],
      "metadata": {
        "colab": {
          "base_uri": "https://localhost:8080/"
        },
        "id": "JB2ls35NBzqC",
        "outputId": "dffe1927-853a-4529-fac7-8d0b3ba08060"
      },
      "execution_count": 11,
      "outputs": [
        {
          "output_type": "execute_result",
          "data": {
            "text/plain": [
              "Index(['invoice_item_number', 'date', 'store_number', 'store_name', 'address',\n",
              "       'city', 'zip_code', 'store_location', 'county_number', 'county',\n",
              "       'category', 'category_name', 'vendor_number', 'vendor_name',\n",
              "       'item_number', 'item_description', 'pack', 'bottle_volume_ml',\n",
              "       'state_bottle_cost', 'state_bottle_retail', 'bottles_sold',\n",
              "       'sale_dollars', 'volume_sold_liters', 'volume_sold_gallons'],\n",
              "      dtype='object')"
            ]
          },
          "metadata": {},
          "execution_count": 11
        }
      ]
    },
    {
      "cell_type": "code",
      "source": [
        "# Fix column data types\n",
        "df['date'] = pd.to_datetime(df['date'], errors='coerce')\n",
        "if 'zip_code' in df.columns:\n",
        "    df['zip_code'] = df['zip_code'].astype(str)"
      ],
      "metadata": {
        "id": "x6-q2Jhrae5N"
      },
      "execution_count": 12,
      "outputs": []
    },
    {
      "cell_type": "code",
      "source": [
        "columns_to_convert = ['county_number', 'category', 'vendor_number', 'item_number', 'year', 'month', 'day', 'day_of_week']\n",
        "for col in columns_to_convert:\n",
        "    if col in df.columns:\n",
        "        df[col] = df[col].astype(str)\n"
      ],
      "metadata": {
        "id": "5hmZLpBxNHZr"
      },
      "execution_count": 25,
      "outputs": []
    },
    {
      "cell_type": "markdown",
      "source": [
        "#### **1.2** Fixing Rows"
      ],
      "metadata": {
        "id": "zVHc70NxIZHC"
      }
    },
    {
      "cell_type": "code",
      "source": [
        "# Drop duplicate rows\n",
        "df.drop_duplicates(inplace=True)\n",
        "\n",
        "# Clean text fields\n",
        "df['vendor_name'] = df['vendor_name'].astype(str).str.strip().str.lower().str.title()\n",
        "df['category_name'] = df['category_name'].astype(str).str.strip().str.lower().str.title()\n"
      ],
      "metadata": {
        "id": "Acvtcs8vKgDx"
      },
      "execution_count": 13,
      "outputs": []
    },
    {
      "cell_type": "markdown",
      "source": [
        "#### **1.3** Handling Missing Values"
      ],
      "metadata": {
        "id": "FpKVPq6TIbkS"
      }
    },
    {
      "cell_type": "code",
      "source": [
        "# Drop rows with nulls in essential columns\n",
        "df.dropna(subset=['date', 'store_number', 'vendor_name', 'category_name'], inplace=True)\n",
        "\n",
        "# Fill nulls in non-critical numeric fields with default values\n",
        "df['bottles_sold'] = df['bottles_sold'].fillna(0)"
      ],
      "metadata": {
        "id": "0-VffKlAKgap"
      },
      "execution_count": 14,
      "outputs": []
    },
    {
      "cell_type": "markdown",
      "source": [
        "#### **1.4** Feature Engineering"
      ],
      "metadata": {
        "id": "_fDG8IdYc7hf"
      }
    },
    {
      "cell_type": "code",
      "source": [
        "# Extract features from date\n",
        "df['year'] = df['date'].dt.year\n",
        "df['month'] = df['date'].dt.month\n",
        "df['day'] = df['date'].dt.day\n",
        "df['day_of_week'] = df['date'].dt.day_name()"
      ],
      "metadata": {
        "id": "Bb0EqE8JdE1v"
      },
      "execution_count": 15,
      "outputs": []
    },
    {
      "cell_type": "code",
      "source": [
        "# Extract longitude and latitude from 'store_location' column\n",
        "import re\n",
        "\n",
        "def extract_coordinates(point_str):\n",
        "    match = re.match(r\"POINT\\s+\\(([-\\d.]+)\\s+([-\\d.]+)\\)\", str(point_str))\n",
        "    if match:\n",
        "        return float(match.group(1)), float(match.group(2))\n",
        "    return None, None\n",
        "\n",
        "df[['longitude', 'latitude']] = df['store_location'].apply(lambda x: pd.Series(extract_coordinates(x)))\n",
        "\n",
        "# 3. Drop the old 'store_location' column\n",
        "df.drop(columns=['store_location'], inplace=True)"
      ],
      "metadata": {
        "id": "z2j6wDYoAzEu"
      },
      "execution_count": 16,
      "outputs": []
    },
    {
      "cell_type": "code",
      "source": [
        "df.columns"
      ],
      "metadata": {
        "colab": {
          "base_uri": "https://localhost:8080/"
        },
        "id": "Z9vBZO2hCY2h",
        "outputId": "071014db-33cb-4626-8189-762e552b9cd3"
      },
      "execution_count": 17,
      "outputs": [
        {
          "output_type": "execute_result",
          "data": {
            "text/plain": [
              "Index(['invoice_item_number', 'date', 'store_number', 'store_name', 'address',\n",
              "       'city', 'zip_code', 'county_number', 'county', 'category',\n",
              "       'category_name', 'vendor_number', 'vendor_name', 'item_number',\n",
              "       'item_description', 'pack', 'bottle_volume_ml', 'state_bottle_cost',\n",
              "       'state_bottle_retail', 'bottles_sold', 'sale_dollars',\n",
              "       'volume_sold_liters', 'volume_sold_gallons', 'year', 'month', 'day',\n",
              "       'day_of_week', 'longitude', 'latitude'],\n",
              "      dtype='object')"
            ]
          },
          "metadata": {},
          "execution_count": 17
        }
      ]
    },
    {
      "cell_type": "markdown",
      "source": [
        "#### **1.4** Handling Outliers"
      ],
      "metadata": {
        "id": "v10ZAouYIgKu"
      }
    },
    {
      "cell_type": "code",
      "source": [
        "from scipy.stats import zscore\n",
        "\n",
        "# Step 1: Identify all numeric columns\n",
        "numeric_cols = df.select_dtypes(include=['int64', 'float64']).columns.tolist()\n",
        "print(\"Numeric columns for outlier check:\", numeric_cols)\n",
        "\n",
        "# Step 2: Drop rows with outliers (|z-score| > 3) for each numeric column\n",
        "for col in numeric_cols:\n",
        "    # Drop NA temporarily to calculate z-score, then filter\n",
        "    col_zscore = zscore(df[col].dropna())\n",
        "    df = df.loc[abs(zscore(df[col].fillna(df[col].mean()))) <= 3]\n",
        "\n",
        "# Step 3: Report new shape\n",
        "print(\"Outlier removal completed.\")\n",
        "print(\"Shape after removing outliers:\", df.shape)"
      ],
      "metadata": {
        "id": "jzxgUXgeKg3Y",
        "colab": {
          "base_uri": "https://localhost:8080/"
        },
        "outputId": "04057751-a2a1-4b84-8034-6e8b175e9c06"
      },
      "execution_count": 18,
      "outputs": [
        {
          "output_type": "stream",
          "name": "stdout",
          "text": [
            "Numeric columns for outlier check: ['store_number', 'county_number', 'category', 'vendor_number', 'item_number', 'pack', 'bottle_volume_ml', 'state_bottle_cost', 'state_bottle_retail', 'bottles_sold', 'sale_dollars', 'volume_sold_liters', 'volume_sold_gallons', 'longitude', 'latitude']\n",
            "Outlier removal completed.\n",
            "Shape after removing outliers: (8873, 29)\n"
          ]
        }
      ]
    },
    {
      "cell_type": "code",
      "source": [
        "# Clean column names\n",
        "df.columns = df.columns.str.strip().str.replace('\\n', '', regex=False)\n",
        "\n",
        "# Define numeric columns (update this list as needed)\n",
        "numeric_columns = [\n",
        "    'store_number', 'zip_code', 'county_number', 'category', 'vendor_number',\n",
        "    'item_number', 'pack', 'bottle_volume_ml', 'state_bottle_cost',\n",
        "    'state_bottle_retail', 'bottles_sold', 'sale_dollars',\n",
        "    'volume_sold_liters', 'volume_sold_gallons', 'year', 'month', 'day',\n",
        "    'longitude', 'latitude'\n",
        "]\n",
        "\n",
        "# Convert to numeric where applicable\n",
        "for col in numeric_columns:\n",
        "    if col in df.columns:\n",
        "        df[col] = pd.to_numeric(df[col], errors='coerce')\n",
        "\n",
        "# Convert date column\n",
        "if 'date' in df.columns:\n",
        "    df['date'] = pd.to_datetime(df['date'], errors='coerce')\n",
        "\n",
        "# Drop rows with all NaNs\n",
        "df.dropna(how='all', inplace=True)"
      ],
      "metadata": {
        "id": "rx3dUnO5LcMT"
      },
      "execution_count": 20,
      "outputs": []
    },
    {
      "cell_type": "code",
      "source": [
        "df.to_csv('/content/drive/MyDrive/Liquor_Sales_df_new1.csv', index=False)\n",
        "print(\"Processed dataset saved.\")\n"
      ],
      "metadata": {
        "colab": {
          "base_uri": "https://localhost:8080/"
        },
        "id": "MlZhKNGPeHYX",
        "outputId": "0f209215-b1ca-41b7-bd91-5358eff2074b"
      },
      "execution_count": 26,
      "outputs": [
        {
          "output_type": "stream",
          "name": "stdout",
          "text": [
            "Processed dataset saved.\n"
          ]
        }
      ]
    },
    {
      "cell_type": "markdown",
      "source": [
        "## **2** Data Ingestion Tasks\n",
        "<font color = red>[15 marks]</font> <br>"
      ],
      "metadata": {
        "id": "9uZWYMvVIsJR"
      }
    },
    {
      "cell_type": "markdown",
      "source": [
        "#### 2.1 Upload Liquor Sales Data to AWS RDS\n",
        "<font color = red>[5 marks]</font> <br>"
      ],
      "metadata": {
        "id": "Ziegg_DCI31b"
      }
    },
    {
      "cell_type": "markdown",
      "source": [
        "### Step 1: Set Up EC2 Instance + SSH Access\n",
        "\n",
        "  1. **Create EC2 Instance**\n",
        "    - AMI: Amazon Linux 2023\n",
        "    - Instance type: t2.micro (free tier)\n",
        "    - Key pair: Create/download `my_key_val_tm.pem`\n",
        "    - Security group:\n",
        "      - Inbound: Port 22 (SSH) open to `0.0.0.0/0` (for development)\n",
        "    - Enable **public IPv4** assignment\n",
        "\n",
        "  2. **Set Permissions & SSH into EC2 (Mac Terminal)**\n",
        "\n",
        "  ```bash\n",
        "  chmod 400 ~/Downloads/my_key_val_tm.pem\n",
        "  ssh -i ~/Downloads/my_key_val_tm.pem ec2-user@<public-ip-or-dns>\n",
        "  ```\n",
        "\n",
        "### Step 2: Launch EMR Cluster\n",
        "\n",
        "  1. **Go to AWS EMR → Create cluster**\n",
        "\n",
        "    - Name: LiquorSalesCluster\n",
        "    - Software: Hadoop, Hive, Spark (choose minimal)\n",
        "    - EC2: Use same key pair my_key_val_tm.pem\n",
        "    - Choose same VPC, subnet, and security group as EC2\n",
        "    - Enable Auto-termination if needed\n",
        "\n",
        "  2. **After cluster is running, SSH using:**\n",
        "  ```bash\n",
        "  ssh -i ~/Downloads/my_key_val_tm.pem hadoop@<master-node-public-dns>\n",
        "  ```\n",
        "\n",
        "\n",
        "### Step 3: Create and Configure RDS (MySQL)\n",
        "  1. **Go to RDS → Create Database**\n",
        "\n",
        "    - Engine: MySQL 8.0\n",
        "    - Template: Free tier\n",
        "    - DB Identifier: liquor-db\n",
        "    - Master username: admin\n",
        "    - Set a strong password\n",
        "\n",
        "  2. **Connectivity:**\n",
        "\n",
        "    - Enable public access\n",
        "    - Add inbound rule for port 3306 in security group: 0.0.0.0/0 (for testing)\n",
        "    - Save the endpoint for connection\n",
        "\n",
        "\n",
        "### Step 4: Connect via MySQL Workbench\n",
        "\n",
        "  1. **Open Workbench → Create New Connection**\n",
        "    - **Hostname**: `<your-rds-endpoint>`  \n",
        "    - **Username**: `admin`  \n",
        "    - **Password**: store it securely  \n",
        "    - **Port**: `3306`\n",
        "\n",
        "  2. **Test the Connection**\n",
        "    - Ensure RDS instance is in \"Available\" state\n",
        "    - Public access must be enabled\n",
        "    - Inbound rule for port 3306 (MySQL) must be open to `0.0.0.0/0` for testing\n",
        "\n",
        "\n",
        "\n",
        "### Step 5: Create SQL Table Schema in Workbench\n",
        "\n",
        "  1. **Create a database** (if not done already)\n",
        "    ```sql\n",
        "    CREATE DATABASE liquor_sales;\n",
        "    USE liquor_sales;\n",
        "\n",
        "\n",
        "### Step 7: Import CSV Data into RDS via MySQL Workbench\n",
        "\n",
        "  1. **Enable `local_infile` in MySQL RDS**\n",
        "    - Open SQL Editor in Workbench and run:\n",
        "      ```sql\n",
        "      SHOW VARIABLES LIKE 'local_infile';\n",
        "      SET GLOBAL local_infile = 1;\n",
        "      ```\n",
        "\n",
        "  2. **Enable “Allow LOAD DATA LOCAL INFILE” in Workbench**\n",
        "    - Go to:\n",
        "      - **Workbench** → **Preferences**\n",
        "      - Navigate to **SQL Editor**\n",
        "      - Check `Allow LOAD DATA LOCAL INFILE`\n",
        "      - Reconnect to the RDS connection\n",
        "\n",
        "\n",
        "  3. **Load CSV into RDS MySQL Table via Workbench**\n",
        "\n",
        "    ```sql\n",
        "    LOAD DATA LOCAL INFILE '/Users/tiyasamukherjee/Downloads/Liquor_Sales_cleaned_df.csv'\n",
        "    INTO TABLE liquor_sales.liquor_sales_df\n",
        "    FIELDS TERMINATED BY ','\n",
        "    ENCLOSED BY '\"'\n",
        "    LINES TERMINATED BY '\\r\\n'\n",
        "    IGNORE 1 ROWS;\n",
        "    \n",
        "\n",
        "  4. **Verify the Data**\n",
        "    - Run:\n",
        "      ```sql\n",
        "      SELECT COUNT(*) FROM liquor_sales_df;\n",
        "      SELECT * FROM liquor_sales_df LIMIT 10;\n",
        "      ```\n",
        "\n",
        "\n",
        "\n",
        "  "
      ],
      "metadata": {
        "id": "K94pTMdQ2h9b"
      }
    },
    {
      "cell_type": "markdown",
      "source": [
        "####2.2 Ingest Data to HBase\n",
        "<font color = red>[10 marks]</font> <br>"
      ],
      "metadata": {
        "id": "DAC2ze1AI4cz"
      }
    },
    {
      "cell_type": "markdown",
      "source": [
        "## Prerequisites\n",
        "- RDS MySQL DB (Public access enabled or in same VPC + SG as EMR)\n",
        "- EMR cluster with HBase & Sqoop\n",
        "- SSH access to EMR Master node (`.pem` key file)\n",
        "\n",
        "\n",
        "## 1. SSH into EMR Master Node\n",
        "\n",
        "```bash\n",
        "ssh -i ~/Downloads/your-key.pem hadoop@<EMR-MASTER-PUBLIC-DNS>\n",
        "```\n",
        "\n",
        "\n",
        "# 2. Download JDBC driver\n",
        "wget https://downloads.mysql.com/archives/get/p/3/file/mysql-connector-java-5.1.49.tar.gz\n",
        "\n",
        "# 3. Extract the archive\n",
        "tar -xvzf mysql-connector-java-5.1.49.tar.gz\n",
        "\n",
        "# 4. Copy JAR file to Sqoop's lib directory\n",
        "sudo cp mysql-connector-java-5.1.49/mysql-connector-java-5.1.49-bin.jar /usr/lib/sqoop/lib/\n",
        "\n",
        "# 5. Create HBase Table Manually\n",
        "```bash\n",
        "  hbase shell\n",
        "\n",
        "  # Inside shell\n",
        "  create 'liquor_sales', 'cf'\n",
        "  list\n",
        "  exit\n",
        "```\n",
        "\n",
        "# 6. Run Sqoop Command to Import Data into HBase\n",
        "```bash\n",
        "sqoop import \\\n",
        "  --connect jdbc:mysql://<RDS-ENDPOINT>:3306/liquor_sales \\\n",
        "  --username admin \\\n",
        "  --password 'my_password_here' \\\n",
        "  --table Liquor_Sales_df \\\n",
        "  --hbase-table liquor_sales_hbase \\\n",
        "  --column-family info \\\n",
        "  --hbase-create-table \\\n",
        "  --split-by invoice_item_number \\\n",
        "  --num-mappers 1\n",
        "```\n"
      ],
      "metadata": {
        "id": "t1Ps-HRCQdOf"
      }
    },
    {
      "cell_type": "markdown",
      "source": [
        "## **3** Analytics Queries using MapReduce\n",
        "<font color = red>[60 marks]</font> <br>"
      ],
      "metadata": {
        "id": "bVIgu2q3I7vR"
      }
    },
    {
      "cell_type": "code",
      "source": [
        "# Load cleaned dataframe\n",
        "clean_df = pd.read_csv('/content/drive/MyDrive/Liquor_Sales_df_new1.csv')\n",
        "\n",
        "# Save as tab-separated file for MRJob (to avoid comma issues)\n",
        "clean_df.to_csv('/content/liquor_sales.txt', sep='\\t', index=False)"
      ],
      "metadata": {
        "id": "nFvgKUkcSNQf"
      },
      "execution_count": 10,
      "outputs": []
    },
    {
      "cell_type": "code",
      "source": [
        "clean_df.head()"
      ],
      "metadata": {
        "colab": {
          "base_uri": "https://localhost:8080/",
          "height": 394
        },
        "id": "Zpwc_0AkShUX",
        "outputId": "19cd7d7d-7bf5-45fc-c232-b6d5d511b149"
      },
      "execution_count": 5,
      "outputs": [
        {
          "output_type": "execute_result",
          "data": {
            "text/plain": [
              "  invoice_item_number        date  store_number  \\\n",
              "0        S24127700024  2015-02-19          3678   \n",
              "1        S19323500030  2014-06-03          2607   \n",
              "2        S23334500013  2015-01-06          4810   \n",
              "3        S15034600007  2013-10-09          4583   \n",
              "4        S25185100053  2015-04-21          5080   \n",
              "\n",
              "                             store_name                   address        city  \\\n",
              "0                       Smoke Shop, The           1918 SE 14TH ST  DES MOINES   \n",
              "1  Hy-Vee Wine and Spirits / Shenandoah            520 SO FREMONT  SHENANDOAH   \n",
              "2                Kum & Go #518 / Ankeny  3603 NE OTTERVIEW CIRCLE      ANKENY   \n",
              "3               Kum & Go #5100 / Manson               208 MAIN ST      MANSON   \n",
              "4                      C's Liquor Store             719 2ND AVE W     SPENCER   \n",
              "\n",
              "   zip_code  county_number   county   category  ... bottles_sold  \\\n",
              "0   50320.0           77.0     Polk  1031200.0  ...            2   \n",
              "1   51601.0           73.0     Page  1062200.0  ...           12   \n",
              "2   50021.0           77.0     Polk  1062200.0  ...            1   \n",
              "3   50563.0           13.0  Calhoun  1081200.0  ...            6   \n",
              "4   51301.0           21.0     Clay  1081390.0  ...            1   \n",
              "\n",
              "   sale_dollars volume_sold_liters  volume_sold_gallons  year  month  day  \\\n",
              "0         14.68                1.0                 0.26  2015      2   19   \n",
              "1         78.12               12.0                 3.17  2014      6    3   \n",
              "2          8.31                0.5                 0.13  2015      1    6   \n",
              "3        112.50                4.5                 1.19  2013     10    9   \n",
              "4          7.44                0.5                 0.13  2015      4   21   \n",
              "\n",
              "   day_of_week  longitude   latitude  \n",
              "0     Thursday -93.597011  41.570844  \n",
              "1      Tuesday -95.385111  40.761736  \n",
              "2      Tuesday -93.572458  41.760989  \n",
              "3    Wednesday -94.534532  42.517855  \n",
              "4      Tuesday -95.147741  43.145210  \n",
              "\n",
              "[5 rows x 29 columns]"
            ],
            "text/html": [
              "\n",
              "  <div id=\"df-77409ad7-1109-41a3-8c32-83a59b7a3c42\" class=\"colab-df-container\">\n",
              "    <div>\n",
              "<style scoped>\n",
              "    .dataframe tbody tr th:only-of-type {\n",
              "        vertical-align: middle;\n",
              "    }\n",
              "\n",
              "    .dataframe tbody tr th {\n",
              "        vertical-align: top;\n",
              "    }\n",
              "\n",
              "    .dataframe thead th {\n",
              "        text-align: right;\n",
              "    }\n",
              "</style>\n",
              "<table border=\"1\" class=\"dataframe\">\n",
              "  <thead>\n",
              "    <tr style=\"text-align: right;\">\n",
              "      <th></th>\n",
              "      <th>invoice_item_number</th>\n",
              "      <th>date</th>\n",
              "      <th>store_number</th>\n",
              "      <th>store_name</th>\n",
              "      <th>address</th>\n",
              "      <th>city</th>\n",
              "      <th>zip_code</th>\n",
              "      <th>county_number</th>\n",
              "      <th>county</th>\n",
              "      <th>category</th>\n",
              "      <th>...</th>\n",
              "      <th>bottles_sold</th>\n",
              "      <th>sale_dollars</th>\n",
              "      <th>volume_sold_liters</th>\n",
              "      <th>volume_sold_gallons</th>\n",
              "      <th>year</th>\n",
              "      <th>month</th>\n",
              "      <th>day</th>\n",
              "      <th>day_of_week</th>\n",
              "      <th>longitude</th>\n",
              "      <th>latitude</th>\n",
              "    </tr>\n",
              "  </thead>\n",
              "  <tbody>\n",
              "    <tr>\n",
              "      <th>0</th>\n",
              "      <td>S24127700024</td>\n",
              "      <td>2015-02-19</td>\n",
              "      <td>3678</td>\n",
              "      <td>Smoke Shop, The</td>\n",
              "      <td>1918 SE 14TH ST</td>\n",
              "      <td>DES MOINES</td>\n",
              "      <td>50320.0</td>\n",
              "      <td>77.0</td>\n",
              "      <td>Polk</td>\n",
              "      <td>1031200.0</td>\n",
              "      <td>...</td>\n",
              "      <td>2</td>\n",
              "      <td>14.68</td>\n",
              "      <td>1.0</td>\n",
              "      <td>0.26</td>\n",
              "      <td>2015</td>\n",
              "      <td>2</td>\n",
              "      <td>19</td>\n",
              "      <td>Thursday</td>\n",
              "      <td>-93.597011</td>\n",
              "      <td>41.570844</td>\n",
              "    </tr>\n",
              "    <tr>\n",
              "      <th>1</th>\n",
              "      <td>S19323500030</td>\n",
              "      <td>2014-06-03</td>\n",
              "      <td>2607</td>\n",
              "      <td>Hy-Vee Wine and Spirits / Shenandoah</td>\n",
              "      <td>520 SO FREMONT</td>\n",
              "      <td>SHENANDOAH</td>\n",
              "      <td>51601.0</td>\n",
              "      <td>73.0</td>\n",
              "      <td>Page</td>\n",
              "      <td>1062200.0</td>\n",
              "      <td>...</td>\n",
              "      <td>12</td>\n",
              "      <td>78.12</td>\n",
              "      <td>12.0</td>\n",
              "      <td>3.17</td>\n",
              "      <td>2014</td>\n",
              "      <td>6</td>\n",
              "      <td>3</td>\n",
              "      <td>Tuesday</td>\n",
              "      <td>-95.385111</td>\n",
              "      <td>40.761736</td>\n",
              "    </tr>\n",
              "    <tr>\n",
              "      <th>2</th>\n",
              "      <td>S23334500013</td>\n",
              "      <td>2015-01-06</td>\n",
              "      <td>4810</td>\n",
              "      <td>Kum &amp; Go #518 / Ankeny</td>\n",
              "      <td>3603 NE OTTERVIEW CIRCLE</td>\n",
              "      <td>ANKENY</td>\n",
              "      <td>50021.0</td>\n",
              "      <td>77.0</td>\n",
              "      <td>Polk</td>\n",
              "      <td>1062200.0</td>\n",
              "      <td>...</td>\n",
              "      <td>1</td>\n",
              "      <td>8.31</td>\n",
              "      <td>0.5</td>\n",
              "      <td>0.13</td>\n",
              "      <td>2015</td>\n",
              "      <td>1</td>\n",
              "      <td>6</td>\n",
              "      <td>Tuesday</td>\n",
              "      <td>-93.572458</td>\n",
              "      <td>41.760989</td>\n",
              "    </tr>\n",
              "    <tr>\n",
              "      <th>3</th>\n",
              "      <td>S15034600007</td>\n",
              "      <td>2013-10-09</td>\n",
              "      <td>4583</td>\n",
              "      <td>Kum &amp; Go #5100 / Manson</td>\n",
              "      <td>208 MAIN ST</td>\n",
              "      <td>MANSON</td>\n",
              "      <td>50563.0</td>\n",
              "      <td>13.0</td>\n",
              "      <td>Calhoun</td>\n",
              "      <td>1081200.0</td>\n",
              "      <td>...</td>\n",
              "      <td>6</td>\n",
              "      <td>112.50</td>\n",
              "      <td>4.5</td>\n",
              "      <td>1.19</td>\n",
              "      <td>2013</td>\n",
              "      <td>10</td>\n",
              "      <td>9</td>\n",
              "      <td>Wednesday</td>\n",
              "      <td>-94.534532</td>\n",
              "      <td>42.517855</td>\n",
              "    </tr>\n",
              "    <tr>\n",
              "      <th>4</th>\n",
              "      <td>S25185100053</td>\n",
              "      <td>2015-04-21</td>\n",
              "      <td>5080</td>\n",
              "      <td>C's Liquor Store</td>\n",
              "      <td>719 2ND AVE W</td>\n",
              "      <td>SPENCER</td>\n",
              "      <td>51301.0</td>\n",
              "      <td>21.0</td>\n",
              "      <td>Clay</td>\n",
              "      <td>1081390.0</td>\n",
              "      <td>...</td>\n",
              "      <td>1</td>\n",
              "      <td>7.44</td>\n",
              "      <td>0.5</td>\n",
              "      <td>0.13</td>\n",
              "      <td>2015</td>\n",
              "      <td>4</td>\n",
              "      <td>21</td>\n",
              "      <td>Tuesday</td>\n",
              "      <td>-95.147741</td>\n",
              "      <td>43.145210</td>\n",
              "    </tr>\n",
              "  </tbody>\n",
              "</table>\n",
              "<p>5 rows × 29 columns</p>\n",
              "</div>\n",
              "    <div class=\"colab-df-buttons\">\n",
              "\n",
              "  <div class=\"colab-df-container\">\n",
              "    <button class=\"colab-df-convert\" onclick=\"convertToInteractive('df-77409ad7-1109-41a3-8c32-83a59b7a3c42')\"\n",
              "            title=\"Convert this dataframe to an interactive table.\"\n",
              "            style=\"display:none;\">\n",
              "\n",
              "  <svg xmlns=\"http://www.w3.org/2000/svg\" height=\"24px\" viewBox=\"0 -960 960 960\">\n",
              "    <path d=\"M120-120v-720h720v720H120Zm60-500h600v-160H180v160Zm220 220h160v-160H400v160Zm0 220h160v-160H400v160ZM180-400h160v-160H180v160Zm440 0h160v-160H620v160ZM180-180h160v-160H180v160Zm440 0h160v-160H620v160Z\"/>\n",
              "  </svg>\n",
              "    </button>\n",
              "\n",
              "  <style>\n",
              "    .colab-df-container {\n",
              "      display:flex;\n",
              "      gap: 12px;\n",
              "    }\n",
              "\n",
              "    .colab-df-convert {\n",
              "      background-color: #E8F0FE;\n",
              "      border: none;\n",
              "      border-radius: 50%;\n",
              "      cursor: pointer;\n",
              "      display: none;\n",
              "      fill: #1967D2;\n",
              "      height: 32px;\n",
              "      padding: 0 0 0 0;\n",
              "      width: 32px;\n",
              "    }\n",
              "\n",
              "    .colab-df-convert:hover {\n",
              "      background-color: #E2EBFA;\n",
              "      box-shadow: 0px 1px 2px rgba(60, 64, 67, 0.3), 0px 1px 3px 1px rgba(60, 64, 67, 0.15);\n",
              "      fill: #174EA6;\n",
              "    }\n",
              "\n",
              "    .colab-df-buttons div {\n",
              "      margin-bottom: 4px;\n",
              "    }\n",
              "\n",
              "    [theme=dark] .colab-df-convert {\n",
              "      background-color: #3B4455;\n",
              "      fill: #D2E3FC;\n",
              "    }\n",
              "\n",
              "    [theme=dark] .colab-df-convert:hover {\n",
              "      background-color: #434B5C;\n",
              "      box-shadow: 0px 1px 3px 1px rgba(0, 0, 0, 0.15);\n",
              "      filter: drop-shadow(0px 1px 2px rgba(0, 0, 0, 0.3));\n",
              "      fill: #FFFFFF;\n",
              "    }\n",
              "  </style>\n",
              "\n",
              "    <script>\n",
              "      const buttonEl =\n",
              "        document.querySelector('#df-77409ad7-1109-41a3-8c32-83a59b7a3c42 button.colab-df-convert');\n",
              "      buttonEl.style.display =\n",
              "        google.colab.kernel.accessAllowed ? 'block' : 'none';\n",
              "\n",
              "      async function convertToInteractive(key) {\n",
              "        const element = document.querySelector('#df-77409ad7-1109-41a3-8c32-83a59b7a3c42');\n",
              "        const dataTable =\n",
              "          await google.colab.kernel.invokeFunction('convertToInteractive',\n",
              "                                                    [key], {});\n",
              "        if (!dataTable) return;\n",
              "\n",
              "        const docLinkHtml = 'Like what you see? Visit the ' +\n",
              "          '<a target=\"_blank\" href=https://colab.research.google.com/notebooks/data_table.ipynb>data table notebook</a>'\n",
              "          + ' to learn more about interactive tables.';\n",
              "        element.innerHTML = '';\n",
              "        dataTable['output_type'] = 'display_data';\n",
              "        await google.colab.output.renderOutput(dataTable, element);\n",
              "        const docLink = document.createElement('div');\n",
              "        docLink.innerHTML = docLinkHtml;\n",
              "        element.appendChild(docLink);\n",
              "      }\n",
              "    </script>\n",
              "  </div>\n",
              "\n",
              "\n",
              "    <div id=\"df-8c6832b9-2fb8-485e-a650-9e949d31c9c9\">\n",
              "      <button class=\"colab-df-quickchart\" onclick=\"quickchart('df-8c6832b9-2fb8-485e-a650-9e949d31c9c9')\"\n",
              "                title=\"Suggest charts\"\n",
              "                style=\"display:none;\">\n",
              "\n",
              "<svg xmlns=\"http://www.w3.org/2000/svg\" height=\"24px\"viewBox=\"0 0 24 24\"\n",
              "     width=\"24px\">\n",
              "    <g>\n",
              "        <path d=\"M19 3H5c-1.1 0-2 .9-2 2v14c0 1.1.9 2 2 2h14c1.1 0 2-.9 2-2V5c0-1.1-.9-2-2-2zM9 17H7v-7h2v7zm4 0h-2V7h2v10zm4 0h-2v-4h2v4z\"/>\n",
              "    </g>\n",
              "</svg>\n",
              "      </button>\n",
              "\n",
              "<style>\n",
              "  .colab-df-quickchart {\n",
              "      --bg-color: #E8F0FE;\n",
              "      --fill-color: #1967D2;\n",
              "      --hover-bg-color: #E2EBFA;\n",
              "      --hover-fill-color: #174EA6;\n",
              "      --disabled-fill-color: #AAA;\n",
              "      --disabled-bg-color: #DDD;\n",
              "  }\n",
              "\n",
              "  [theme=dark] .colab-df-quickchart {\n",
              "      --bg-color: #3B4455;\n",
              "      --fill-color: #D2E3FC;\n",
              "      --hover-bg-color: #434B5C;\n",
              "      --hover-fill-color: #FFFFFF;\n",
              "      --disabled-bg-color: #3B4455;\n",
              "      --disabled-fill-color: #666;\n",
              "  }\n",
              "\n",
              "  .colab-df-quickchart {\n",
              "    background-color: var(--bg-color);\n",
              "    border: none;\n",
              "    border-radius: 50%;\n",
              "    cursor: pointer;\n",
              "    display: none;\n",
              "    fill: var(--fill-color);\n",
              "    height: 32px;\n",
              "    padding: 0;\n",
              "    width: 32px;\n",
              "  }\n",
              "\n",
              "  .colab-df-quickchart:hover {\n",
              "    background-color: var(--hover-bg-color);\n",
              "    box-shadow: 0 1px 2px rgba(60, 64, 67, 0.3), 0 1px 3px 1px rgba(60, 64, 67, 0.15);\n",
              "    fill: var(--button-hover-fill-color);\n",
              "  }\n",
              "\n",
              "  .colab-df-quickchart-complete:disabled,\n",
              "  .colab-df-quickchart-complete:disabled:hover {\n",
              "    background-color: var(--disabled-bg-color);\n",
              "    fill: var(--disabled-fill-color);\n",
              "    box-shadow: none;\n",
              "  }\n",
              "\n",
              "  .colab-df-spinner {\n",
              "    border: 2px solid var(--fill-color);\n",
              "    border-color: transparent;\n",
              "    border-bottom-color: var(--fill-color);\n",
              "    animation:\n",
              "      spin 1s steps(1) infinite;\n",
              "  }\n",
              "\n",
              "  @keyframes spin {\n",
              "    0% {\n",
              "      border-color: transparent;\n",
              "      border-bottom-color: var(--fill-color);\n",
              "      border-left-color: var(--fill-color);\n",
              "    }\n",
              "    20% {\n",
              "      border-color: transparent;\n",
              "      border-left-color: var(--fill-color);\n",
              "      border-top-color: var(--fill-color);\n",
              "    }\n",
              "    30% {\n",
              "      border-color: transparent;\n",
              "      border-left-color: var(--fill-color);\n",
              "      border-top-color: var(--fill-color);\n",
              "      border-right-color: var(--fill-color);\n",
              "    }\n",
              "    40% {\n",
              "      border-color: transparent;\n",
              "      border-right-color: var(--fill-color);\n",
              "      border-top-color: var(--fill-color);\n",
              "    }\n",
              "    60% {\n",
              "      border-color: transparent;\n",
              "      border-right-color: var(--fill-color);\n",
              "    }\n",
              "    80% {\n",
              "      border-color: transparent;\n",
              "      border-right-color: var(--fill-color);\n",
              "      border-bottom-color: var(--fill-color);\n",
              "    }\n",
              "    90% {\n",
              "      border-color: transparent;\n",
              "      border-bottom-color: var(--fill-color);\n",
              "    }\n",
              "  }\n",
              "</style>\n",
              "\n",
              "      <script>\n",
              "        async function quickchart(key) {\n",
              "          const quickchartButtonEl =\n",
              "            document.querySelector('#' + key + ' button');\n",
              "          quickchartButtonEl.disabled = true;  // To prevent multiple clicks.\n",
              "          quickchartButtonEl.classList.add('colab-df-spinner');\n",
              "          try {\n",
              "            const charts = await google.colab.kernel.invokeFunction(\n",
              "                'suggestCharts', [key], {});\n",
              "          } catch (error) {\n",
              "            console.error('Error during call to suggestCharts:', error);\n",
              "          }\n",
              "          quickchartButtonEl.classList.remove('colab-df-spinner');\n",
              "          quickchartButtonEl.classList.add('colab-df-quickchart-complete');\n",
              "        }\n",
              "        (() => {\n",
              "          let quickchartButtonEl =\n",
              "            document.querySelector('#df-8c6832b9-2fb8-485e-a650-9e949d31c9c9 button');\n",
              "          quickchartButtonEl.style.display =\n",
              "            google.colab.kernel.accessAllowed ? 'block' : 'none';\n",
              "        })();\n",
              "      </script>\n",
              "    </div>\n",
              "\n",
              "    </div>\n",
              "  </div>\n"
            ],
            "application/vnd.google.colaboratory.intrinsic+json": {
              "type": "dataframe",
              "variable_name": "clean_df"
            }
          },
          "metadata": {},
          "execution_count": 5
        }
      ]
    },
    {
      "cell_type": "code",
      "source": [
        "clean_df.columns"
      ],
      "metadata": {
        "colab": {
          "base_uri": "https://localhost:8080/"
        },
        "id": "Z3fpXzjJS2m-",
        "outputId": "31b812aa-0a3e-4655-9449-839fde7c778e"
      },
      "execution_count": 6,
      "outputs": [
        {
          "output_type": "execute_result",
          "data": {
            "text/plain": [
              "Index(['invoice_item_number', 'date', 'store_number', 'store_name', 'address',\n",
              "       'city', 'zip_code', 'county_number', 'county', 'category',\n",
              "       'category_name', 'vendor_number', 'vendor_name', 'item_number',\n",
              "       'item_description', 'pack', 'bottle_volume_ml', 'state_bottle_cost',\n",
              "       'state_bottle_retail', 'bottles_sold', 'sale_dollars',\n",
              "       'volume_sold_liters', 'volume_sold_gallons', 'year', 'month', 'day',\n",
              "       'day_of_week', 'longitude', 'latitude'],\n",
              "      dtype='object')"
            ]
          },
          "metadata": {},
          "execution_count": 6
        }
      ]
    },
    {
      "cell_type": "markdown",
      "source": [
        "#### 3.1 Total Revenue by Store\n",
        "<font color = red>[10 marks]</font> <br>"
      ],
      "metadata": {
        "id": "0v-UC9gWI_fe"
      }
    },
    {
      "cell_type": "code",
      "source": [
        "%%file MRTotalRevenueByStore.py\n",
        "from mrjob.job import MRJob\n",
        "import csv\n",
        "from io import StringIO\n",
        "\n",
        "class MRTotalRevenueByStore(MRJob):\n",
        "\n",
        "    def mapper(self, _, line):\n",
        "        try:\n",
        "            fields = list(csv.reader([line], delimiter='\\t'))[0]\n",
        "\n",
        "            # Skip header row\n",
        "            if fields[0] == \"invoice_item_number\":\n",
        "                return\n",
        "\n",
        "            store_number = fields[2]  # 'store_number'\n",
        "            sale_dollars = float(fields[20])  # 'sale_dollars'\n",
        "\n",
        "            yield store_number, sale_dollars\n",
        "\n",
        "        except Exception:\n",
        "            pass  # Ignore bad lines\n",
        "\n",
        "    def reducer(self, store_number, sales):\n",
        "        yield store_number, round(sum(sales), 2)\n",
        "\n",
        "if __name__ == '__main__':\n",
        "    MRTotalRevenueByStore.run()\n"
      ],
      "metadata": {
        "id": "JBdUsNFKKi9K",
        "colab": {
          "base_uri": "https://localhost:8080/"
        },
        "outputId": "90e4123e-5d9d-4afd-c265-f94ce6351452"
      },
      "execution_count": 7,
      "outputs": [
        {
          "output_type": "stream",
          "name": "stdout",
          "text": [
            "Writing MRTotalRevenueByStore.py\n"
          ]
        }
      ]
    },
    {
      "cell_type": "code",
      "source": [
        "!python MRTotalRevenueByStore.py /content/liquor_sales.txt --quiet > total_revenue_output.txt\n",
        "!head -20 total_revenue_output.txt\n",
        "\n"
      ],
      "metadata": {
        "colab": {
          "base_uri": "https://localhost:8080/"
        },
        "id": "ZbbWWDmsTIGc",
        "outputId": "da1c473e-b8e7-4bd6-ad58-cc4e2db038a1"
      },
      "execution_count": 22,
      "outputs": [
        {
          "output_type": "stream",
          "name": "stdout",
          "text": [
            "\"4200\"\t284.95\n",
            "\"4201\"\t347.67\n",
            "\"4202\"\t660.34\n",
            "\"4203\"\t737.84\n",
            "\"4204\"\t287.68\n",
            "\"4205\"\t899.22\n",
            "\"4209\"\t1733.64\n",
            "\"4214\"\t1386.33\n",
            "\"4219\"\t661.34\n",
            "\"4221\"\t226.56\n",
            "\"4222\"\t334.56\n",
            "\"4223\"\t323.19\n",
            "\"4225\"\t133.86\n",
            "\"4226\"\t9.76\n",
            "\"4228\"\t529.56\n",
            "\"4229\"\t234.16\n",
            "\"4230\"\t70.57\n",
            "\"4231\"\t492.96\n",
            "\"4232\"\t327.78\n",
            "\"4233\"\t987.21\n"
          ]
        }
      ]
    },
    {
      "cell_type": "markdown",
      "source": [
        "#### 3.2 Top-Selling Categories\n",
        "<font color = red>[10 marks]</font> <br>"
      ],
      "metadata": {
        "id": "bFZB3OjtJArF"
      }
    },
    {
      "cell_type": "code",
      "source": [
        "%%file MRTopSellingLiquorCategories.py\n",
        "\n",
        "from mrjob.job import MRJob\n",
        "import csv\n",
        "\n",
        "class MRTopSellingLiquorCategories(MRJob):\n",
        "\n",
        "    def mapper(self, _, line):\n",
        "        # Use csv reader to handle tab-separated fields\n",
        "        fields = list(csv.reader([line], delimiter='\\t'))[0]\n",
        "\n",
        "        try:\n",
        "            category_name = fields[10]\n",
        "            bottles_sold = int(fields[19])\n",
        "            yield category_name, bottles_sold\n",
        "        except:\n",
        "            pass  # Skip header or malformed lines\n",
        "\n",
        "    def reducer(self, category_name, bottles_iter):\n",
        "        yield category_name, sum(bottles_iter)\n",
        "\n",
        "if __name__ == '__main__':\n",
        "    MRTopSellingLiquorCategories.run()\n"
      ],
      "metadata": {
        "id": "N37STBpbKjso",
        "colab": {
          "base_uri": "https://localhost:8080/"
        },
        "outputId": "94b165af-4264-43ee-8eb8-07018372a432"
      },
      "execution_count": 12,
      "outputs": [
        {
          "output_type": "stream",
          "name": "stdout",
          "text": [
            "Writing MRTopSellingLiquorCategories.py\n"
          ]
        }
      ]
    },
    {
      "cell_type": "code",
      "source": [
        "!python MRTopSellingLiquorCategories.py /content/liquor_sales.txt --quiet > top_categories_output.txt\n",
        "!cat top_categories_output.txt | head -20\n"
      ],
      "metadata": {
        "colab": {
          "base_uri": "https://localhost:8080/"
        },
        "id": "anDsrGFZ7pkP",
        "outputId": "ccf47b2c-9173-4ac6-cc3e-2c017730a8cd"
      },
      "execution_count": 23,
      "outputs": [
        {
          "output_type": "stream",
          "name": "stdout",
          "text": [
            "\"Tequila\"\t2157\n",
            "\"Triple Sec\"\t263\n",
            "\"Tropical Fruit Schnapps\"\t24\n",
            "\"Vodka 80 Proof\"\t10791\n",
            "\"Vodka Flavored\"\t3090\n",
            "\"Watermelon Schnapps\"\t148\n",
            "\"Whiskey Liqueur\"\t2224\n",
            "\"White Creme De Cacao\"\t36\n",
            "\"White Rum\"\t24\n",
            "\"100 Proof Vodka\"\t709\n",
            "\"American Alcohol\"\t174\n",
            "\"American Amaretto\"\t320\n",
            "\"American Cocktails\"\t1730\n",
            "\"American Cordials & Liqueur\"\t12\n",
            "\"American Dry Gins\"\t1801\n",
            "\"American Flavored Vodka\"\t22\n",
            "\"American Grape Brandies\"\t2192\n",
            "\"American Schnapps\"\t14\n",
            "\"American Sloe Gins\"\t47\n",
            "\"American Vodkas\"\t72\n"
          ]
        }
      ]
    },
    {
      "cell_type": "markdown",
      "source": [
        "#### 3.3 County-Level Sales Analysis\n",
        "<font color = red>[10 marks]</font> <br>"
      ],
      "metadata": {
        "id": "HU9i_JaZJByS"
      }
    },
    {
      "cell_type": "code",
      "source": [
        "%%file MRCountyLevelSalesAnalysis.py\n",
        "\n",
        "from mrjob.job import MRJob\n",
        "import csv\n",
        "\n",
        "class MRCountyLevelSalesAnalysis(MRJob):\n",
        "\n",
        "    def mapper(self, _, line):\n",
        "        fields = list(csv.reader([line], delimiter='\\t'))[0]\n",
        "        try:\n",
        "            county = fields[8]\n",
        "            sale_dollars = float(fields[20])\n",
        "            yield county, sale_dollars\n",
        "        except:\n",
        "            pass  # Skip header or malformed rows\n",
        "\n",
        "    def reducer(self, county, sales_iter):\n",
        "        yield county, round(sum(sales_iter), 2)\n",
        "\n",
        "if __name__ == '__main__':\n",
        "    MRCountyLevelSalesAnalysis.run()\n"
      ],
      "metadata": {
        "id": "D_PzFwc0KkPW",
        "colab": {
          "base_uri": "https://localhost:8080/"
        },
        "outputId": "35526369-f698-4637-d288-317b0a4928ed"
      },
      "execution_count": 14,
      "outputs": [
        {
          "output_type": "stream",
          "name": "stdout",
          "text": [
            "Writing MRCountyLevelSalesAnalysis.py\n"
          ]
        }
      ]
    },
    {
      "cell_type": "code",
      "source": [
        "!python MRCountyLevelSalesAnalysis.py /content/liquor_sales.txt --quiet > county_sales_output.txt\n",
        "!cat county_sales_output.txt | head -20\n"
      ],
      "metadata": {
        "colab": {
          "base_uri": "https://localhost:8080/"
        },
        "id": "PJkik0EB8DeH",
        "outputId": "87e3928d-2045-4133-dcb0-1c66729b398c"
      },
      "execution_count": 24,
      "outputs": [
        {
          "output_type": "stream",
          "name": "stdout",
          "text": [
            "\"Poweshiek\"\t5874.89\n",
            "\"Ringgold\"\t396.93\n",
            "\"SCOTT\"\t118.68\n",
            "\"SIOUX\"\t73.22\n",
            "\"STORY\"\t807.0\n",
            "\"Sac\"\t2461.06\n",
            "\"Scott\"\t47299.09\n",
            "\"Shelby\"\t1733.02\n",
            "\"Sioux\"\t2968.62\n",
            "\"Story\"\t23986.87\n",
            "\"Tama\"\t2182.61\n",
            "\"Taylor\"\t313.01\n",
            "\"Union\"\t3123.26\n",
            "\"Van Buren\"\t488.88\n",
            "\"WAPELLO\"\t94.56\n",
            "\"Wapello\"\t8395.99\n",
            "\"Warren\"\t6242.89\n",
            "\"Washington\"\t3501.63\n",
            "\"Wayne\"\t782.54\n",
            "\"Webster\"\t10018.31\n"
          ]
        }
      ]
    },
    {
      "cell_type": "markdown",
      "source": [
        "#### 3.4 Store Performance Analysis\n",
        "<font color = red>[10 marks]</font> <br>"
      ],
      "metadata": {
        "id": "FyyYJe5QJC3B"
      }
    },
    {
      "cell_type": "code",
      "source": [
        "%%file MRStorePerformanceAnalysis.py\n",
        "\n",
        "from mrjob.job import MRJob\n",
        "import csv\n",
        "\n",
        "class MRStorePerformanceAnalysis(MRJob):\n",
        "\n",
        "    def mapper(self, _, line):\n",
        "        fields = list(csv.reader([line], delimiter='\\t'))[0]\n",
        "        try:\n",
        "            store_number = fields[2]\n",
        "            sale_dollars = float(fields[20])\n",
        "            bottles_sold = int(fields[19])\n",
        "            yield store_number, (sale_dollars, bottles_sold)\n",
        "        except:\n",
        "            pass  # Skip headers or invalid rows\n",
        "\n",
        "    def reducer(self, store_number, values):\n",
        "        total_sales = 0\n",
        "        total_bottles = 0\n",
        "        for sale, bottles in values:\n",
        "            total_sales += sale\n",
        "            total_bottles += bottles\n",
        "        yield store_number, {'Total_Sales': round(total_sales, 2), 'Total_Bottles': total_bottles}\n",
        "\n",
        "if __name__ == '__main__':\n",
        "    MRStorePerformanceAnalysis.run()\n"
      ],
      "metadata": {
        "id": "z_4BireWKkpV",
        "colab": {
          "base_uri": "https://localhost:8080/"
        },
        "outputId": "f28c118b-8a44-499a-d6ad-76141ac91329"
      },
      "execution_count": 16,
      "outputs": [
        {
          "output_type": "stream",
          "name": "stdout",
          "text": [
            "Writing MRStorePerformanceAnalysis.py\n"
          ]
        }
      ]
    },
    {
      "cell_type": "code",
      "source": [
        "!python MRStorePerformanceAnalysis.py /content/liquor_sales.txt --quiet > store_perf_output.txt\n",
        "!cat store_perf_output.txt | head -20\n"
      ],
      "metadata": {
        "colab": {
          "base_uri": "https://localhost:8080/"
        },
        "id": "YQ3syfBC8MxH",
        "outputId": "d3e4fd04-91f9-4bc9-aba0-76dfc033c189"
      },
      "execution_count": 25,
      "outputs": [
        {
          "output_type": "stream",
          "name": "stdout",
          "text": [
            "\"4200\"\t{\"Total_Sales\": 284.95, \"Total_Bottles\": 27}\n",
            "\"4201\"\t{\"Total_Sales\": 347.67, \"Total_Bottles\": 33}\n",
            "\"4202\"\t{\"Total_Sales\": 660.34, \"Total_Bottles\": 53}\n",
            "\"4203\"\t{\"Total_Sales\": 737.84, \"Total_Bottles\": 62}\n",
            "\"4204\"\t{\"Total_Sales\": 287.68, \"Total_Bottles\": 16}\n",
            "\"4205\"\t{\"Total_Sales\": 899.22, \"Total_Bottles\": 54}\n",
            "\"4209\"\t{\"Total_Sales\": 1733.64, \"Total_Bottles\": 168}\n",
            "\"4214\"\t{\"Total_Sales\": 1386.33, \"Total_Bottles\": 109}\n",
            "\"4219\"\t{\"Total_Sales\": 661.34, \"Total_Bottles\": 51}\n",
            "\"4221\"\t{\"Total_Sales\": 226.56, \"Total_Bottles\": 24}\n",
            "\"4222\"\t{\"Total_Sales\": 334.56, \"Total_Bottles\": 48}\n",
            "\"4223\"\t{\"Total_Sales\": 323.19, \"Total_Bottles\": 32}\n",
            "\"4225\"\t{\"Total_Sales\": 133.86, \"Total_Bottles\": 9}\n",
            "\"4226\"\t{\"Total_Sales\": 9.76, \"Total_Bottles\": 2}\n",
            "\"4228\"\t{\"Total_Sales\": 529.56, \"Total_Bottles\": 60}\n",
            "\"4229\"\t{\"Total_Sales\": 234.16, \"Total_Bottles\": 20}\n",
            "\"4230\"\t{\"Total_Sales\": 70.57, \"Total_Bottles\": 7}\n",
            "\"4231\"\t{\"Total_Sales\": 492.96, \"Total_Bottles\": 36}\n",
            "\"4232\"\t{\"Total_Sales\": 327.78, \"Total_Bottles\": 13}\n",
            "\"4233\"\t{\"Total_Sales\": 987.21, \"Total_Bottles\": 63}\n"
          ]
        }
      ]
    },
    {
      "cell_type": "markdown",
      "source": [
        "#### 3.5 Trends in Liquor Sales Over Time\n",
        "<font color = red>[10 marks]</font> <br>"
      ],
      "metadata": {
        "id": "tCyeRMr-JD2i"
      }
    },
    {
      "cell_type": "code",
      "source": [
        "%%file MRLiquorSalesTrends.py\n",
        "\n",
        "from mrjob.job import MRJob\n",
        "import csv\n",
        "\n",
        "class MRLiquorSalesTrends(MRJob):\n",
        "\n",
        "    def mapper(self, _, line):\n",
        "        fields = list(csv.reader([line], delimiter='\\t'))[0]\n",
        "        try:\n",
        "            year = fields[23]\n",
        "            month = fields[24]\n",
        "            sale_dollars = float(fields[20])\n",
        "            key = f\"{year}-{month.zfill(2)}\"\n",
        "            yield key, sale_dollars\n",
        "        except:\n",
        "            pass  # Skip header or corrupt rows\n",
        "\n",
        "    def reducer(self, month_year, sales):\n",
        "        total_sales = round(sum(sales), 2)\n",
        "        yield month_year, total_sales\n",
        "\n",
        "if __name__ == '__main__':\n",
        "    MRLiquorSalesTrends.run()\n"
      ],
      "metadata": {
        "id": "x4UpwN3xKlJ6",
        "colab": {
          "base_uri": "https://localhost:8080/"
        },
        "outputId": "e857cf01-2c40-4aa9-f544-6f22069559b9"
      },
      "execution_count": 18,
      "outputs": [
        {
          "output_type": "stream",
          "name": "stdout",
          "text": [
            "Writing MRLiquorSalesTrends.py\n"
          ]
        }
      ]
    },
    {
      "cell_type": "code",
      "source": [
        "!python MRLiquorSalesTrends.py /content/liquor_sales.txt --quiet > sales_trend_output.txt\n",
        "!cat sales_trend_output.txt | head -20\n"
      ],
      "metadata": {
        "colab": {
          "base_uri": "https://localhost:8080/"
        },
        "id": "5p8xtbvd8XQL",
        "outputId": "3e4bb8c2-4a3f-47a7-a37c-cc637e508e01"
      },
      "execution_count": 26,
      "outputs": [
        {
          "output_type": "stream",
          "name": "stdout",
          "text": [
            "\"2015-02\"\t14850.74\n",
            "\"2015-03\"\t14310.34\n",
            "\"2015-04\"\t17517.74\n",
            "\"2015-05\"\t21360.29\n",
            "\"2015-06\"\t18215.97\n",
            "\"2015-07\"\t15603.01\n",
            "\"2015-08\"\t16567.84\n",
            "\"2015-09\"\t16334.0\n",
            "\"2015-10\"\t14642.6\n",
            "\"2015-11\"\t15221.52\n",
            "\"2016-07\"\t4928.0\n",
            "\"2017-10\"\t3961.58\n",
            "\"2012-01\"\t13671.66\n",
            "\"2012-02\"\t13403.23\n",
            "\"2012-03\"\t14064.6\n",
            "\"2012-04\"\t12211.45\n",
            "\"2012-05\"\t19938.2\n",
            "\"2012-06\"\t14587.39\n",
            "\"2012-07\"\t17178.14\n",
            "\"2012-08\"\t16453.99\n"
          ]
        }
      ]
    },
    {
      "cell_type": "markdown",
      "source": [
        "#### 3.6 Vendor Performance\n",
        "<font color = red>[10 marks]</font> <br>"
      ],
      "metadata": {
        "id": "fbwsgl0rJFHh"
      }
    },
    {
      "cell_type": "code",
      "source": [
        "%%file MRVendorPerformance.py\n",
        "\n",
        "from mrjob.job import MRJob\n",
        "import csv\n",
        "\n",
        "class MRVendorPerformance(MRJob):\n",
        "\n",
        "    def mapper(self, _, line):\n",
        "        fields = list(csv.reader([line], delimiter='\\t'))[0]\n",
        "        try:\n",
        "            vendor_name = fields[12]\n",
        "            sale_dollars = float(fields[20])\n",
        "            yield vendor_name, sale_dollars\n",
        "        except:\n",
        "            pass  # Skip header or malformed rows\n",
        "\n",
        "    def reducer(self, vendor_name, sales):\n",
        "        total_sales = round(sum(sales), 2)\n",
        "        yield vendor_name, total_sales\n",
        "\n",
        "if __name__ == '__main__':\n",
        "    MRVendorPerformance.run()\n"
      ],
      "metadata": {
        "id": "tuPk-tPrIOWT",
        "colab": {
          "base_uri": "https://localhost:8080/"
        },
        "outputId": "3f8b2020-6a94-483d-a6ef-50f1a7d31bed"
      },
      "execution_count": 20,
      "outputs": [
        {
          "output_type": "stream",
          "name": "stdout",
          "text": [
            "Writing MRVendorPerformance.py\n"
          ]
        }
      ]
    },
    {
      "cell_type": "code",
      "source": [
        "!python MRVendorPerformance.py /content/liquor_sales.txt --quiet > vendor_performance_output.txt\n",
        "!cat vendor_performance_output.txt | head -20\n"
      ],
      "metadata": {
        "colab": {
          "base_uri": "https://localhost:8080/"
        },
        "id": "KiO3z3Ui8jGh",
        "outputId": "9db57063-b1d8-460e-efe0-ef263749b3df"
      },
      "execution_count": 27,
      "outputs": [
        {
          "output_type": "stream",
          "name": "stdout",
          "text": [
            "\"Sazerac Company  Inc\"\t284.46\n",
            "\"Sazerac North America\"\t26396.28\n",
            "\"Serralles Usa\"\t775.5\n",
            "\"Shaw Ross International Importers Ll\"\t426.18\n",
            "\"Sidney Frank Importing Co.\"\t9511.9\n",
            "\"Stoli Group\"\t3059.36\n",
            "\"The Patron Spirits Company\"\t3509.09\n",
            "\"Trinchero Family Estates\"\t121.04\n",
            "\"Western Spirits Beverage Co. Llc\"\t1289.61\n",
            "\"Wildman And Sons, F.\"\t77.77\n",
            "\"William Grant And Sons, Inc.\"\t6097.37\n",
            "\"Wilson Daniels Ltd.\"\t8885.25\n",
            "\"Bacardi U.S.A., Inc.\"\t42983.14\n",
            "\"Bacardi Usa Inc\"\t111.5\n",
            "\"Black Rock Spirits\"\t134.97\n",
            "\"Broadbent Distillery\"\t177.48\n",
            "\"Brown Forman Corp.\"\t45.0\n",
            "\"Brown-Forman Corporation\"\t42048.4\n",
            "\"Campari(Skyy)\"\t12965.72\n",
            "\"Castle Brands\"\t76.04\n"
          ]
        }
      ]
    }
  ]
}